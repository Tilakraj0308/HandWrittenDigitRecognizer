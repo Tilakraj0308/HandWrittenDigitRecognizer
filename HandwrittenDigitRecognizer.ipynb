{
  "nbformat": 4,
  "nbformat_minor": 0,
  "metadata": {
    "colab": {
      "name": "HandwrittenDigitRecognizer.ipynb",
      "provenance": [],
      "collapsed_sections": [],
      "authorship_tag": "ABX9TyNa5MrMbfXIIgRuX/0W9Bwu",
      "include_colab_link": true
    },
    "kernelspec": {
      "name": "python3",
      "display_name": "Python 3"
    },
    "language_info": {
      "name": "python"
    },
    "accelerator": "GPU"
  },
  "cells": [
    {
      "cell_type": "markdown",
      "metadata": {
        "id": "view-in-github",
        "colab_type": "text"
      },
      "source": [
        "<a href=\"https://colab.research.google.com/github/Tilakraj0308/HandWrittenDigitRecognizer/blob/main/HandwrittenDigitRecognizer.ipynb\" target=\"_parent\"><img src=\"https://colab.research.google.com/assets/colab-badge.svg\" alt=\"Open In Colab\"/></a>"
      ]
    },
    {
      "cell_type": "markdown",
      "source": [
        "#Handwritten Digit Recognization\n"
      ],
      "metadata": {
        "id": "UrYaTpNChHl3"
      }
    },
    {
      "cell_type": "markdown",
      "source": [
        "###Importation"
      ],
      "metadata": {
        "id": "_AhQhrBAhOb-"
      }
    },
    {
      "cell_type": "code",
      "source": [
        "!pip install pillow mnist\n",
        "from PIL import Image\n",
        "import numpy as np\n",
        "from sklearn.neural_network import MLPClassifier\n",
        "from sklearn.metrics import confusion_matrix\n",
        "from matplotlib import pyplot as plt\n",
        "import mnist"
      ],
      "metadata": {
        "colab": {
          "base_uri": "https://localhost:8080/"
        },
        "id": "G57ZmryehMCk",
        "outputId": "970a418b-953f-443e-8664-800cb67cfb41"
      },
      "execution_count": 2,
      "outputs": [
        {
          "output_type": "stream",
          "name": "stdout",
          "text": [
            "Requirement already satisfied: pillow in /usr/local/lib/python3.7/dist-packages (7.1.2)\n",
            "Collecting mnist\n",
            "  Downloading mnist-0.2.2-py2.py3-none-any.whl (3.5 kB)\n",
            "Requirement already satisfied: numpy in /usr/local/lib/python3.7/dist-packages (from mnist) (1.21.6)\n",
            "Installing collected packages: mnist\n",
            "Successfully installed mnist-0.2.2\n"
          ]
        }
      ]
    },
    {
      "cell_type": "markdown",
      "source": [
        "###Training data"
      ],
      "metadata": {
        "id": "plmTA1Vmh4wx"
      }
    },
    {
      "cell_type": "code",
      "source": [
        "X_train = mnist.train_images()\n",
        "y_train = mnist.train_labels()\n",
        "print(X_train.shape)\n",
        "print(y_train.shape)"
      ],
      "metadata": {
        "colab": {
          "base_uri": "https://localhost:8080/"
        },
        "id": "sGG5T5mLhrPe",
        "outputId": "6590fef9-883a-4bab-862a-c22537ce8df4"
      },
      "execution_count": 3,
      "outputs": [
        {
          "output_type": "stream",
          "name": "stdout",
          "text": [
            "(60000, 28, 28)\n",
            "(60000,)\n"
          ]
        }
      ]
    },
    {
      "cell_type": "markdown",
      "source": [
        "###Test data"
      ],
      "metadata": {
        "id": "bNfTfWXqiecS"
      }
    },
    {
      "cell_type": "code",
      "source": [
        "X_test = mnist.test_images()\n",
        "y_test = mnist.test_labels()\n",
        "print(X_test.shape)\n",
        "print(y_test.shape)"
      ],
      "metadata": {
        "colab": {
          "base_uri": "https://localhost:8080/"
        },
        "id": "C-YlWPKniacj",
        "outputId": "9fbffe93-5e69-4990-d519-c7d9a9c43c05"
      },
      "execution_count": 4,
      "outputs": [
        {
          "output_type": "stream",
          "name": "stdout",
          "text": [
            "(10000, 28, 28)\n",
            "(10000,)\n"
          ]
        }
      ]
    },
    {
      "cell_type": "markdown",
      "source": [
        "###Reshape"
      ],
      "metadata": {
        "id": "Ue88WLjsivde"
      }
    },
    {
      "cell_type": "code",
      "source": [
        "X_train = X_train.reshape((-1 , 28*28))\n",
        "X_test = X_test.reshape((-1 , 28*28))\n",
        "print(X_train.shape)\n",
        "print(X_test.shape)"
      ],
      "metadata": {
        "colab": {
          "base_uri": "https://localhost:8080/"
        },
        "id": "riwrYa8sixNc",
        "outputId": "e8109f74-39d4-4138-93b5-bbba2c761cad"
      },
      "execution_count": 5,
      "outputs": [
        {
          "output_type": "stream",
          "name": "stdout",
          "text": [
            "(60000, 784)\n",
            "(10000, 784)\n"
          ]
        }
      ]
    },
    {
      "cell_type": "code",
      "source": [
        "print(X_train[34])"
      ],
      "metadata": {
        "colab": {
          "base_uri": "https://localhost:8080/"
        },
        "id": "4O8dTRQZi0wx",
        "outputId": "1b72d29e-a96a-463b-b62f-2f6ba79cf1de"
      },
      "execution_count": 6,
      "outputs": [
        {
          "output_type": "stream",
          "name": "stdout",
          "text": [
            "[  0   0   0   0   0   0   0   0   0   0   0   0   0   0   0   0   0   0\n",
            "   0   0   0   0   0   0   0   0   0   0   0   0   0   0   0   0   0   0\n",
            "   0   0   0   0   0   0   0   0   0   0   0   0   0   0   0   0   0   0\n",
            "   0   0   0   0   0   0   0   0   0   0   0   0   0   0   0   0   0   0\n",
            "   0   0   0   0   0   0   0   0   0   0   0   0   0   0   0   0   0   0\n",
            "   0   0   0   0   0   0   0   0   0   0   0   0   0   0   0   0   0   0\n",
            "   0   0   0   0   0   0   0   0   0   0   0   0   0   0   0   0   0   0\n",
            "   0   0   0   0   0   0   0   0   0   0   0   0   0   0   0   0   0   0\n",
            "   0   0   0   0   0   0   0   0   0   0  53 255 253 253 253 124   0   0\n",
            "   0   0   0   0   0   0   0   0   0   0   0   0   0   0   0   0   0   0\n",
            "   0   0 180 253 251 251 251 251 145  62   0   0   0   0   0   0   0   0\n",
            "   0   0   0   0   0   0   0   0   0   0  32 217 241 253 251 251 251 251\n",
            " 253 107   0   0   0   0   0   0   0   0   0   0   0   0   0   0   0   0\n",
            "   0   0  37 251 251 253 251 251 251 251 253 107   0   0   0   0   0   0\n",
            "   0   0   0   0   0   0   0   0   0   0   0   0 166 251 251 253 251  96\n",
            " 148 251 253 107   0   0   0   0   0   0   0   0   0   0   0   0   0   0\n",
            "   0   0  73 253 253 253 253 130   0   0 110 253 255 108   0   0   0   0\n",
            "   0   0   0   0   0   0   0   0   0   0   0   0  73 251 251 251 251   0\n",
            "   0   0 109 251 253 107   0   0   0   0   0   0   0   0   0   0   0   0\n",
            "   0   0   0   0 202 251 251 251 225   0   0   6 129 251 253 107   0   0\n",
            "   0   0   0   0   0   0   0   0   0   0   0   0   0   0 150 251 251 251\n",
            "  71   0   0 115 251 251 253 107   0   0   0   0   0   0   0   0   0   0\n",
            "   0   0   0   0   0   0 253 251 251 173  20   0   0 217 251 251 253 107\n",
            "   0   0   0   0   0   0   0   0   0   0   0   0   0   0   0 182 255 253\n",
            " 216   0   0   0   0 218 253 253 182   0   0   0   0   0   0   0   0   0\n",
            "   0   0   0   0   0   0  63 221 253 251 215   0   0   0  84 236 251 251\n",
            "  77   0   0   0   0   0   0   0   0   0   0   0   0   0   0   0 109 251\n",
            " 253 251 215   0   0  11 160 251 251  96   0   0   0   0   0   0   0   0\n",
            "   0   0   0   0   0   0   0   0 109 251 253 251 137   0   0 150 251 251\n",
            " 251  71   0   0   0   0   0   0   0   0   0   0   0   0   0   0   0   0\n",
            " 109 251 253 251  35   0 130 253 251 251 173  20   0   0   0   0   0   0\n",
            "   0   0   0   0   0   0   0   0   0   0 110 253 255 253  98 150 253 255\n",
            " 253 164   0   0   0   0   0   0   0   0   0   0   0   0   0   0   0   0\n",
            "   0   0 109 251 253 251 251 251 251 253 251  35   0   0   0   0   0   0\n",
            "   0   0   0   0   0   0   0   0   0   0   0   0  93 241 253 251 251 251\n",
            " 251 216 112   5   0   0   0   0   0   0   0   0   0   0   0   0   0   0\n",
            "   0   0   0   0   0 103 253 251 251 251 251   0   0   0   0   0   0   0\n",
            "   0   0   0   0   0   0   0   0   0   0   0   0   0   0   0   0 124 251\n",
            " 225  71  71   0   0   0   0   0   0   0   0   0   0   0   0   0   0   0\n",
            "   0   0   0   0   0   0   0   0   0   0   0   0   0   0   0   0   0   0\n",
            "   0   0   0   0   0   0   0   0   0   0   0   0   0   0   0   0   0   0\n",
            "   0   0   0   0   0   0   0   0   0   0   0   0   0   0   0   0   0   0\n",
            "   0   0   0   0   0   0   0   0   0   0   0   0   0   0   0   0   0   0\n",
            "   0   0   0   0   0   0   0   0   0   0]\n"
          ]
        }
      ]
    },
    {
      "cell_type": "markdown",
      "source": [
        "###Scaling"
      ],
      "metadata": {
        "id": "MYOz-DdOjjKh"
      }
    },
    {
      "cell_type": "code",
      "source": [
        "X_train = (X_train/256)\n",
        "print(X_train[34])"
      ],
      "metadata": {
        "colab": {
          "base_uri": "https://localhost:8080/"
        },
        "id": "EFmqFJIOjk0V",
        "outputId": "ae581dcd-92f8-42c8-e74c-585526360743"
      },
      "execution_count": 7,
      "outputs": [
        {
          "output_type": "stream",
          "name": "stdout",
          "text": [
            "[0.         0.         0.         0.         0.         0.\n",
            " 0.         0.         0.         0.         0.         0.\n",
            " 0.         0.         0.         0.         0.         0.\n",
            " 0.         0.         0.         0.         0.         0.\n",
            " 0.         0.         0.         0.         0.         0.\n",
            " 0.         0.         0.         0.         0.         0.\n",
            " 0.         0.         0.         0.         0.         0.\n",
            " 0.         0.         0.         0.         0.         0.\n",
            " 0.         0.         0.         0.         0.         0.\n",
            " 0.         0.         0.         0.         0.         0.\n",
            " 0.         0.         0.         0.         0.         0.\n",
            " 0.         0.         0.         0.         0.         0.\n",
            " 0.         0.         0.         0.         0.         0.\n",
            " 0.         0.         0.         0.         0.         0.\n",
            " 0.         0.         0.         0.         0.         0.\n",
            " 0.         0.         0.         0.         0.         0.\n",
            " 0.         0.         0.         0.         0.         0.\n",
            " 0.         0.         0.         0.         0.         0.\n",
            " 0.         0.         0.         0.         0.         0.\n",
            " 0.         0.         0.         0.         0.         0.\n",
            " 0.         0.         0.         0.         0.         0.\n",
            " 0.         0.         0.         0.         0.         0.\n",
            " 0.         0.         0.         0.         0.         0.\n",
            " 0.         0.         0.         0.         0.         0.\n",
            " 0.         0.         0.         0.         0.         0.\n",
            " 0.         0.         0.         0.         0.20703125 0.99609375\n",
            " 0.98828125 0.98828125 0.98828125 0.484375   0.         0.\n",
            " 0.         0.         0.         0.         0.         0.\n",
            " 0.         0.         0.         0.         0.         0.\n",
            " 0.         0.         0.         0.         0.         0.\n",
            " 0.         0.         0.703125   0.98828125 0.98046875 0.98046875\n",
            " 0.98046875 0.98046875 0.56640625 0.2421875  0.         0.\n",
            " 0.         0.         0.         0.         0.         0.\n",
            " 0.         0.         0.         0.         0.         0.\n",
            " 0.         0.         0.         0.         0.125      0.84765625\n",
            " 0.94140625 0.98828125 0.98046875 0.98046875 0.98046875 0.98046875\n",
            " 0.98828125 0.41796875 0.         0.         0.         0.\n",
            " 0.         0.         0.         0.         0.         0.\n",
            " 0.         0.         0.         0.         0.         0.\n",
            " 0.         0.         0.14453125 0.98046875 0.98046875 0.98828125\n",
            " 0.98046875 0.98046875 0.98046875 0.98046875 0.98828125 0.41796875\n",
            " 0.         0.         0.         0.         0.         0.\n",
            " 0.         0.         0.         0.         0.         0.\n",
            " 0.         0.         0.         0.         0.         0.\n",
            " 0.6484375  0.98046875 0.98046875 0.98828125 0.98046875 0.375\n",
            " 0.578125   0.98046875 0.98828125 0.41796875 0.         0.\n",
            " 0.         0.         0.         0.         0.         0.\n",
            " 0.         0.         0.         0.         0.         0.\n",
            " 0.         0.         0.28515625 0.98828125 0.98828125 0.98828125\n",
            " 0.98828125 0.5078125  0.         0.         0.4296875  0.98828125\n",
            " 0.99609375 0.421875   0.         0.         0.         0.\n",
            " 0.         0.         0.         0.         0.         0.\n",
            " 0.         0.         0.         0.         0.         0.\n",
            " 0.28515625 0.98046875 0.98046875 0.98046875 0.98046875 0.\n",
            " 0.         0.         0.42578125 0.98046875 0.98828125 0.41796875\n",
            " 0.         0.         0.         0.         0.         0.\n",
            " 0.         0.         0.         0.         0.         0.\n",
            " 0.         0.         0.         0.         0.7890625  0.98046875\n",
            " 0.98046875 0.98046875 0.87890625 0.         0.         0.0234375\n",
            " 0.50390625 0.98046875 0.98828125 0.41796875 0.         0.\n",
            " 0.         0.         0.         0.         0.         0.\n",
            " 0.         0.         0.         0.         0.         0.\n",
            " 0.         0.         0.5859375  0.98046875 0.98046875 0.98046875\n",
            " 0.27734375 0.         0.         0.44921875 0.98046875 0.98046875\n",
            " 0.98828125 0.41796875 0.         0.         0.         0.\n",
            " 0.         0.         0.         0.         0.         0.\n",
            " 0.         0.         0.         0.         0.         0.\n",
            " 0.98828125 0.98046875 0.98046875 0.67578125 0.078125   0.\n",
            " 0.         0.84765625 0.98046875 0.98046875 0.98828125 0.41796875\n",
            " 0.         0.         0.         0.         0.         0.\n",
            " 0.         0.         0.         0.         0.         0.\n",
            " 0.         0.         0.         0.7109375  0.99609375 0.98828125\n",
            " 0.84375    0.         0.         0.         0.         0.8515625\n",
            " 0.98828125 0.98828125 0.7109375  0.         0.         0.\n",
            " 0.         0.         0.         0.         0.         0.\n",
            " 0.         0.         0.         0.         0.         0.\n",
            " 0.24609375 0.86328125 0.98828125 0.98046875 0.83984375 0.\n",
            " 0.         0.         0.328125   0.921875   0.98046875 0.98046875\n",
            " 0.30078125 0.         0.         0.         0.         0.\n",
            " 0.         0.         0.         0.         0.         0.\n",
            " 0.         0.         0.         0.         0.42578125 0.98046875\n",
            " 0.98828125 0.98046875 0.83984375 0.         0.         0.04296875\n",
            " 0.625      0.98046875 0.98046875 0.375      0.         0.\n",
            " 0.         0.         0.         0.         0.         0.\n",
            " 0.         0.         0.         0.         0.         0.\n",
            " 0.         0.         0.42578125 0.98046875 0.98828125 0.98046875\n",
            " 0.53515625 0.         0.         0.5859375  0.98046875 0.98046875\n",
            " 0.98046875 0.27734375 0.         0.         0.         0.\n",
            " 0.         0.         0.         0.         0.         0.\n",
            " 0.         0.         0.         0.         0.         0.\n",
            " 0.42578125 0.98046875 0.98828125 0.98046875 0.13671875 0.\n",
            " 0.5078125  0.98828125 0.98046875 0.98046875 0.67578125 0.078125\n",
            " 0.         0.         0.         0.         0.         0.\n",
            " 0.         0.         0.         0.         0.         0.\n",
            " 0.         0.         0.         0.         0.4296875  0.98828125\n",
            " 0.99609375 0.98828125 0.3828125  0.5859375  0.98828125 0.99609375\n",
            " 0.98828125 0.640625   0.         0.         0.         0.\n",
            " 0.         0.         0.         0.         0.         0.\n",
            " 0.         0.         0.         0.         0.         0.\n",
            " 0.         0.         0.42578125 0.98046875 0.98828125 0.98046875\n",
            " 0.98046875 0.98046875 0.98046875 0.98828125 0.98046875 0.13671875\n",
            " 0.         0.         0.         0.         0.         0.\n",
            " 0.         0.         0.         0.         0.         0.\n",
            " 0.         0.         0.         0.         0.         0.\n",
            " 0.36328125 0.94140625 0.98828125 0.98046875 0.98046875 0.98046875\n",
            " 0.98046875 0.84375    0.4375     0.01953125 0.         0.\n",
            " 0.         0.         0.         0.         0.         0.\n",
            " 0.         0.         0.         0.         0.         0.\n",
            " 0.         0.         0.         0.         0.         0.40234375\n",
            " 0.98828125 0.98046875 0.98046875 0.98046875 0.98046875 0.\n",
            " 0.         0.         0.         0.         0.         0.\n",
            " 0.         0.         0.         0.         0.         0.\n",
            " 0.         0.         0.         0.         0.         0.\n",
            " 0.         0.         0.         0.         0.484375   0.98046875\n",
            " 0.87890625 0.27734375 0.27734375 0.         0.         0.\n",
            " 0.         0.         0.         0.         0.         0.\n",
            " 0.         0.         0.         0.         0.         0.\n",
            " 0.         0.         0.         0.         0.         0.\n",
            " 0.         0.         0.         0.         0.         0.\n",
            " 0.         0.         0.         0.         0.         0.\n",
            " 0.         0.         0.         0.         0.         0.\n",
            " 0.         0.         0.         0.         0.         0.\n",
            " 0.         0.         0.         0.         0.         0.\n",
            " 0.         0.         0.         0.         0.         0.\n",
            " 0.         0.         0.         0.         0.         0.\n",
            " 0.         0.         0.         0.         0.         0.\n",
            " 0.         0.         0.         0.         0.         0.\n",
            " 0.         0.         0.         0.         0.         0.\n",
            " 0.         0.         0.         0.         0.         0.\n",
            " 0.         0.         0.         0.         0.         0.\n",
            " 0.         0.         0.         0.        ]\n"
          ]
        }
      ]
    },
    {
      "cell_type": "markdown",
      "source": [
        "###Model"
      ],
      "metadata": {
        "id": "hqm0HRyvkFX0"
      }
    },
    {
      "cell_type": "code",
      "source": [
        "clf = MLPClassifier(solver = \"adam\" , activation = \"relu\" , hidden_layer_sizes=(50,50))"
      ],
      "metadata": {
        "id": "PCRnyXlXkHF6"
      },
      "execution_count": 8,
      "outputs": []
    },
    {
      "cell_type": "markdown",
      "source": [
        "###Training model"
      ],
      "metadata": {
        "id": "TtRuV78Skt88"
      }
    },
    {
      "cell_type": "code",
      "source": [
        "clf.fit(X_train , y_train)"
      ],
      "metadata": {
        "colab": {
          "base_uri": "https://localhost:8080/"
        },
        "id": "HOfZCOO8kw0k",
        "outputId": "e4610fb9-c555-4d9c-989e-2f11ff1517b3"
      },
      "execution_count": 9,
      "outputs": [
        {
          "output_type": "execute_result",
          "data": {
            "text/plain": [
              "MLPClassifier(hidden_layer_sizes=(50, 50))"
            ]
          },
          "metadata": {},
          "execution_count": 9
        }
      ]
    },
    {
      "cell_type": "markdown",
      "source": [
        "###Prediction"
      ],
      "metadata": {
        "id": "1xprCc_0nQi4"
      }
    },
    {
      "cell_type": "code",
      "source": [
        "pred = clf.predict(X_test)\n",
        "print(\"Predictions: \",pred[: 10])\n",
        "print(\"Real: \",y_test[: 10])"
      ],
      "metadata": {
        "colab": {
          "base_uri": "https://localhost:8080/"
        },
        "id": "RajPw9mCnTTZ",
        "outputId": "3812cb80-e409-4592-aa27-0c8923a0ef64"
      },
      "execution_count": 10,
      "outputs": [
        {
          "output_type": "stream",
          "name": "stdout",
          "text": [
            "Predictions:  [7 2 1 0 4 1 4 9 5 9]\n",
            "Real:  [7 2 1 0 4 1 4 9 5 9]\n"
          ]
        }
      ]
    },
    {
      "cell_type": "markdown",
      "source": [
        "###Accuracy"
      ],
      "metadata": {
        "id": "FjPhllhwnmrW"
      }
    },
    {
      "cell_type": "code",
      "source": [
        "acc = confusion_matrix(y_test , pred)\n",
        "def accuracy(cm):\n",
        "  dia = cm.trace()\n",
        "  elem = cm.sum()\n",
        "  return dia/elem\n",
        "\n",
        "print(accuracy(acc))"
      ],
      "metadata": {
        "colab": {
          "base_uri": "https://localhost:8080/"
        },
        "id": "csfGDyxCnoE4",
        "outputId": "15e67a45-8e10-42cd-89f5-017fcb9b2b18"
      },
      "execution_count": 11,
      "outputs": [
        {
          "output_type": "stream",
          "name": "stdout",
          "text": [
            "0.9724\n"
          ]
        }
      ]
    },
    {
      "cell_type": "markdown",
      "source": [
        "###Example checking"
      ],
      "metadata": {
        "id": "ojjmS-j2xcF9"
      }
    },
    {
      "cell_type": "code",
      "source": [
        "img = Image.open('Five.png')\n",
        "data = list(img.getdata())\n",
        "data = np.array(data)/256\n",
        "prt = clf.predict([data])\n",
        "print(prt)"
      ],
      "metadata": {
        "id": "Z1YmDeYMwxE_",
        "colab": {
          "base_uri": "https://localhost:8080/"
        },
        "outputId": "f920bc90-16c6-4030-8b54-b57ebeab7c9d"
      },
      "execution_count": 13,
      "outputs": [
        {
          "output_type": "stream",
          "name": "stdout",
          "text": [
            "[5]\n"
          ]
        }
      ]
    }
  ]
}