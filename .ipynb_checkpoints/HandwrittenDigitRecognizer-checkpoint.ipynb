{
 "cells": [
  {
   "cell_type": "markdown",
   "metadata": {
    "colab_type": "text",
    "id": "view-in-github"
   },
   "source": [
    "<a href=\"https://colab.research.google.com/github/Tilakraj0308/HandWrittenDigitRecognizer/blob/main/HandwrittenDigitRecognizer.ipynb\" target=\"_parent\"><img src=\"https://colab.research.google.com/assets/colab-badge.svg\" alt=\"Open In Colab\"/></a>"
   ]
  },
  {
   "cell_type": "markdown",
   "metadata": {
    "id": "UrYaTpNChHl3"
   },
   "source": [
    "# Handwritten Digit Recognization\n"
   ]
  },
  {
   "cell_type": "markdown",
   "metadata": {
    "id": "_AhQhrBAhOb-"
   },
   "source": [
    "### Importation"
   ]
  },
  {
   "cell_type": "code",
   "execution_count": 1,
   "metadata": {
    "colab": {
     "base_uri": "https://localhost:8080/"
    },
    "id": "G57ZmryehMCk",
    "outputId": "970a418b-953f-443e-8664-800cb67cfb41"
   },
   "outputs": [
    {
     "name": "stdout",
     "output_type": "stream",
     "text": [
      "Requirement already satisfied: pillow in c:\\users\\tilak\\appdata\\local\\programs\\python\\python39\\lib\\site-packages (9.0.1)\n",
      "Requirement already satisfied: mnist in c:\\users\\tilak\\appdata\\local\\programs\\python\\python39\\lib\\site-packages (0.2.2)\n",
      "Requirement already satisfied: numpy in c:\\users\\tilak\\appdata\\local\\programs\\python\\python39\\lib\\site-packages (from mnist) (1.22.2)\n"
     ]
    },
    {
     "name": "stderr",
     "output_type": "stream",
     "text": [
      "WARNING: There was an error checking the latest version of pip.\n"
     ]
    }
   ],
   "source": [
    "!pip install pillow mnist\n",
    "from PIL import Image\n",
    "import numpy as np\n",
    "from sklearn.neural_network import MLPClassifier\n",
    "from sklearn.metrics import confusion_matrix\n",
    "from matplotlib import pyplot as plt\n",
    "import mnist"
   ]
  },
  {
   "cell_type": "markdown",
   "metadata": {
    "id": "plmTA1Vmh4wx"
   },
   "source": [
    "### Training data"
   ]
  },
  {
   "cell_type": "code",
   "execution_count": 2,
   "metadata": {
    "colab": {
     "base_uri": "https://localhost:8080/"
    },
    "id": "sGG5T5mLhrPe",
    "outputId": "6590fef9-883a-4bab-862a-c22537ce8df4"
   },
   "outputs": [
    {
     "name": "stdout",
     "output_type": "stream",
     "text": [
      "(60000, 28, 28)\n",
      "(60000,)\n"
     ]
    }
   ],
   "source": [
    "X_train = mnist.train_images()\n",
    "y_train = mnist.train_labels()\n",
    "print(X_train.shape)\n",
    "print(y_train.shape)"
   ]
  },
  {
   "cell_type": "markdown",
   "metadata": {
    "id": "bNfTfWXqiecS"
   },
   "source": [
    "### Test data"
   ]
  },
  {
   "cell_type": "code",
   "execution_count": 3,
   "metadata": {
    "colab": {
     "base_uri": "https://localhost:8080/"
    },
    "id": "C-YlWPKniacj",
    "outputId": "9fbffe93-5e69-4990-d519-c7d9a9c43c05"
   },
   "outputs": [
    {
     "name": "stdout",
     "output_type": "stream",
     "text": [
      "(10000, 28, 28)\n",
      "(10000,)\n"
     ]
    }
   ],
   "source": [
    "X_test = mnist.test_images()\n",
    "y_test = mnist.test_labels()\n",
    "print(X_test.shape)\n",
    "print(y_test.shape)"
   ]
  },
  {
   "cell_type": "markdown",
   "metadata": {
    "id": "Ue88WLjsivde"
   },
   "source": [
    "### Reshape"
   ]
  },
  {
   "cell_type": "code",
   "execution_count": 4,
   "metadata": {
    "colab": {
     "base_uri": "https://localhost:8080/"
    },
    "id": "riwrYa8sixNc",
    "outputId": "e8109f74-39d4-4138-93b5-bbba2c761cad"
   },
   "outputs": [
    {
     "name": "stdout",
     "output_type": "stream",
     "text": [
      "(60000, 784)\n",
      "(10000, 784)\n"
     ]
    }
   ],
   "source": [
    "X_train = X_train.reshape((-1 , 28*28))\n",
    "X_test = X_test.reshape((-1 , 28*28))\n",
    "print(X_train.shape)\n",
    "print(X_test.shape)"
   ]
  },
  {
   "cell_type": "code",
   "execution_count": 5,
   "metadata": {
    "colab": {
     "base_uri": "https://localhost:8080/"
    },
    "id": "4O8dTRQZi0wx",
    "outputId": "1b72d29e-a96a-463b-b62f-2f6ba79cf1de"
   },
   "outputs": [
    {
     "name": "stdout",
     "output_type": "stream",
     "text": [
      "[  0   0   0   0   0   0   0   0   0   0   0   0   0   0   0   0   0   0\n",
      "   0   0   0   0   0   0   0   0   0   0   0   0   0   0   0   0   0   0\n",
      "   0   0   0   0   0   0   0   0   0   0   0   0   0   0   0   0   0   0\n",
      "   0   0   0   0   0   0   0   0   0   0   0   0   0   0   0   0   0   0\n",
      "   0   0   0   0   0   0   0   0   0   0   0   0   0   0   0   0   0   0\n",
      "   0   0   0   0   0   0   0   0   0   0   0   0   0   0   0   0   0   0\n",
      "   0   0   0   0   0   0   0   0   0   0   0   0   0   0   0   0   0   0\n",
      "   0   0   0   0   0   0   0   0   0   0   0   0   0   0   0   0   0   0\n",
      "   0   0   0   0   0   0   0   0   0   0  53 255 253 253 253 124   0   0\n",
      "   0   0   0   0   0   0   0   0   0   0   0   0   0   0   0   0   0   0\n",
      "   0   0 180 253 251 251 251 251 145  62   0   0   0   0   0   0   0   0\n",
      "   0   0   0   0   0   0   0   0   0   0  32 217 241 253 251 251 251 251\n",
      " 253 107   0   0   0   0   0   0   0   0   0   0   0   0   0   0   0   0\n",
      "   0   0  37 251 251 253 251 251 251 251 253 107   0   0   0   0   0   0\n",
      "   0   0   0   0   0   0   0   0   0   0   0   0 166 251 251 253 251  96\n",
      " 148 251 253 107   0   0   0   0   0   0   0   0   0   0   0   0   0   0\n",
      "   0   0  73 253 253 253 253 130   0   0 110 253 255 108   0   0   0   0\n",
      "   0   0   0   0   0   0   0   0   0   0   0   0  73 251 251 251 251   0\n",
      "   0   0 109 251 253 107   0   0   0   0   0   0   0   0   0   0   0   0\n",
      "   0   0   0   0 202 251 251 251 225   0   0   6 129 251 253 107   0   0\n",
      "   0   0   0   0   0   0   0   0   0   0   0   0   0   0 150 251 251 251\n",
      "  71   0   0 115 251 251 253 107   0   0   0   0   0   0   0   0   0   0\n",
      "   0   0   0   0   0   0 253 251 251 173  20   0   0 217 251 251 253 107\n",
      "   0   0   0   0   0   0   0   0   0   0   0   0   0   0   0 182 255 253\n",
      " 216   0   0   0   0 218 253 253 182   0   0   0   0   0   0   0   0   0\n",
      "   0   0   0   0   0   0  63 221 253 251 215   0   0   0  84 236 251 251\n",
      "  77   0   0   0   0   0   0   0   0   0   0   0   0   0   0   0 109 251\n",
      " 253 251 215   0   0  11 160 251 251  96   0   0   0   0   0   0   0   0\n",
      "   0   0   0   0   0   0   0   0 109 251 253 251 137   0   0 150 251 251\n",
      " 251  71   0   0   0   0   0   0   0   0   0   0   0   0   0   0   0   0\n",
      " 109 251 253 251  35   0 130 253 251 251 173  20   0   0   0   0   0   0\n",
      "   0   0   0   0   0   0   0   0   0   0 110 253 255 253  98 150 253 255\n",
      " 253 164   0   0   0   0   0   0   0   0   0   0   0   0   0   0   0   0\n",
      "   0   0 109 251 253 251 251 251 251 253 251  35   0   0   0   0   0   0\n",
      "   0   0   0   0   0   0   0   0   0   0   0   0  93 241 253 251 251 251\n",
      " 251 216 112   5   0   0   0   0   0   0   0   0   0   0   0   0   0   0\n",
      "   0   0   0   0   0 103 253 251 251 251 251   0   0   0   0   0   0   0\n",
      "   0   0   0   0   0   0   0   0   0   0   0   0   0   0   0   0 124 251\n",
      " 225  71  71   0   0   0   0   0   0   0   0   0   0   0   0   0   0   0\n",
      "   0   0   0   0   0   0   0   0   0   0   0   0   0   0   0   0   0   0\n",
      "   0   0   0   0   0   0   0   0   0   0   0   0   0   0   0   0   0   0\n",
      "   0   0   0   0   0   0   0   0   0   0   0   0   0   0   0   0   0   0\n",
      "   0   0   0   0   0   0   0   0   0   0   0   0   0   0   0   0   0   0\n",
      "   0   0   0   0   0   0   0   0   0   0]\n"
     ]
    }
   ],
   "source": [
    "print(X_train[34])"
   ]
  },
  {
   "cell_type": "markdown",
   "metadata": {
    "id": "MYOz-DdOjjKh"
   },
   "source": [
    "### Scaling"
   ]
  },
  {
   "cell_type": "code",
   "execution_count": 6,
   "metadata": {
    "colab": {
     "base_uri": "https://localhost:8080/"
    },
    "id": "EFmqFJIOjk0V",
    "outputId": "ae581dcd-92f8-42c8-e74c-585526360743"
   },
   "outputs": [
    {
     "name": "stdout",
     "output_type": "stream",
     "text": [
      "[0.         0.         0.         0.         0.         0.\n",
      " 0.         0.         0.         0.         0.         0.\n",
      " 0.         0.         0.         0.         0.         0.\n",
      " 0.         0.         0.         0.         0.         0.\n",
      " 0.         0.         0.         0.         0.         0.\n",
      " 0.         0.         0.         0.         0.         0.\n",
      " 0.         0.         0.         0.         0.         0.\n",
      " 0.         0.         0.         0.         0.         0.\n",
      " 0.         0.         0.         0.         0.         0.\n",
      " 0.         0.         0.         0.         0.         0.\n",
      " 0.         0.         0.         0.         0.         0.\n",
      " 0.         0.         0.         0.         0.         0.\n",
      " 0.         0.         0.         0.         0.         0.\n",
      " 0.         0.         0.         0.         0.         0.\n",
      " 0.         0.         0.         0.         0.         0.\n",
      " 0.         0.         0.         0.         0.         0.\n",
      " 0.         0.         0.         0.         0.         0.\n",
      " 0.         0.         0.         0.         0.         0.\n",
      " 0.         0.         0.         0.         0.         0.\n",
      " 0.         0.         0.         0.         0.         0.\n",
      " 0.         0.         0.         0.         0.         0.\n",
      " 0.         0.         0.         0.         0.         0.\n",
      " 0.         0.         0.         0.         0.         0.\n",
      " 0.         0.         0.         0.         0.         0.\n",
      " 0.         0.         0.         0.         0.         0.\n",
      " 0.         0.         0.         0.         0.20703125 0.99609375\n",
      " 0.98828125 0.98828125 0.98828125 0.484375   0.         0.\n",
      " 0.         0.         0.         0.         0.         0.\n",
      " 0.         0.         0.         0.         0.         0.\n",
      " 0.         0.         0.         0.         0.         0.\n",
      " 0.         0.         0.703125   0.98828125 0.98046875 0.98046875\n",
      " 0.98046875 0.98046875 0.56640625 0.2421875  0.         0.\n",
      " 0.         0.         0.         0.         0.         0.\n",
      " 0.         0.         0.         0.         0.         0.\n",
      " 0.         0.         0.         0.         0.125      0.84765625\n",
      " 0.94140625 0.98828125 0.98046875 0.98046875 0.98046875 0.98046875\n",
      " 0.98828125 0.41796875 0.         0.         0.         0.\n",
      " 0.         0.         0.         0.         0.         0.\n",
      " 0.         0.         0.         0.         0.         0.\n",
      " 0.         0.         0.14453125 0.98046875 0.98046875 0.98828125\n",
      " 0.98046875 0.98046875 0.98046875 0.98046875 0.98828125 0.41796875\n",
      " 0.         0.         0.         0.         0.         0.\n",
      " 0.         0.         0.         0.         0.         0.\n",
      " 0.         0.         0.         0.         0.         0.\n",
      " 0.6484375  0.98046875 0.98046875 0.98828125 0.98046875 0.375\n",
      " 0.578125   0.98046875 0.98828125 0.41796875 0.         0.\n",
      " 0.         0.         0.         0.         0.         0.\n",
      " 0.         0.         0.         0.         0.         0.\n",
      " 0.         0.         0.28515625 0.98828125 0.98828125 0.98828125\n",
      " 0.98828125 0.5078125  0.         0.         0.4296875  0.98828125\n",
      " 0.99609375 0.421875   0.         0.         0.         0.\n",
      " 0.         0.         0.         0.         0.         0.\n",
      " 0.         0.         0.         0.         0.         0.\n",
      " 0.28515625 0.98046875 0.98046875 0.98046875 0.98046875 0.\n",
      " 0.         0.         0.42578125 0.98046875 0.98828125 0.41796875\n",
      " 0.         0.         0.         0.         0.         0.\n",
      " 0.         0.         0.         0.         0.         0.\n",
      " 0.         0.         0.         0.         0.7890625  0.98046875\n",
      " 0.98046875 0.98046875 0.87890625 0.         0.         0.0234375\n",
      " 0.50390625 0.98046875 0.98828125 0.41796875 0.         0.\n",
      " 0.         0.         0.         0.         0.         0.\n",
      " 0.         0.         0.         0.         0.         0.\n",
      " 0.         0.         0.5859375  0.98046875 0.98046875 0.98046875\n",
      " 0.27734375 0.         0.         0.44921875 0.98046875 0.98046875\n",
      " 0.98828125 0.41796875 0.         0.         0.         0.\n",
      " 0.         0.         0.         0.         0.         0.\n",
      " 0.         0.         0.         0.         0.         0.\n",
      " 0.98828125 0.98046875 0.98046875 0.67578125 0.078125   0.\n",
      " 0.         0.84765625 0.98046875 0.98046875 0.98828125 0.41796875\n",
      " 0.         0.         0.         0.         0.         0.\n",
      " 0.         0.         0.         0.         0.         0.\n",
      " 0.         0.         0.         0.7109375  0.99609375 0.98828125\n",
      " 0.84375    0.         0.         0.         0.         0.8515625\n",
      " 0.98828125 0.98828125 0.7109375  0.         0.         0.\n",
      " 0.         0.         0.         0.         0.         0.\n",
      " 0.         0.         0.         0.         0.         0.\n",
      " 0.24609375 0.86328125 0.98828125 0.98046875 0.83984375 0.\n",
      " 0.         0.         0.328125   0.921875   0.98046875 0.98046875\n",
      " 0.30078125 0.         0.         0.         0.         0.\n",
      " 0.         0.         0.         0.         0.         0.\n",
      " 0.         0.         0.         0.         0.42578125 0.98046875\n",
      " 0.98828125 0.98046875 0.83984375 0.         0.         0.04296875\n",
      " 0.625      0.98046875 0.98046875 0.375      0.         0.\n",
      " 0.         0.         0.         0.         0.         0.\n",
      " 0.         0.         0.         0.         0.         0.\n",
      " 0.         0.         0.42578125 0.98046875 0.98828125 0.98046875\n",
      " 0.53515625 0.         0.         0.5859375  0.98046875 0.98046875\n",
      " 0.98046875 0.27734375 0.         0.         0.         0.\n",
      " 0.         0.         0.         0.         0.         0.\n",
      " 0.         0.         0.         0.         0.         0.\n",
      " 0.42578125 0.98046875 0.98828125 0.98046875 0.13671875 0.\n",
      " 0.5078125  0.98828125 0.98046875 0.98046875 0.67578125 0.078125\n",
      " 0.         0.         0.         0.         0.         0.\n",
      " 0.         0.         0.         0.         0.         0.\n",
      " 0.         0.         0.         0.         0.4296875  0.98828125\n",
      " 0.99609375 0.98828125 0.3828125  0.5859375  0.98828125 0.99609375\n",
      " 0.98828125 0.640625   0.         0.         0.         0.\n",
      " 0.         0.         0.         0.         0.         0.\n",
      " 0.         0.         0.         0.         0.         0.\n",
      " 0.         0.         0.42578125 0.98046875 0.98828125 0.98046875\n",
      " 0.98046875 0.98046875 0.98046875 0.98828125 0.98046875 0.13671875\n",
      " 0.         0.         0.         0.         0.         0.\n",
      " 0.         0.         0.         0.         0.         0.\n",
      " 0.         0.         0.         0.         0.         0.\n",
      " 0.36328125 0.94140625 0.98828125 0.98046875 0.98046875 0.98046875\n",
      " 0.98046875 0.84375    0.4375     0.01953125 0.         0.\n",
      " 0.         0.         0.         0.         0.         0.\n",
      " 0.         0.         0.         0.         0.         0.\n",
      " 0.         0.         0.         0.         0.         0.40234375\n",
      " 0.98828125 0.98046875 0.98046875 0.98046875 0.98046875 0.\n",
      " 0.         0.         0.         0.         0.         0.\n",
      " 0.         0.         0.         0.         0.         0.\n",
      " 0.         0.         0.         0.         0.         0.\n",
      " 0.         0.         0.         0.         0.484375   0.98046875\n",
      " 0.87890625 0.27734375 0.27734375 0.         0.         0.\n",
      " 0.         0.         0.         0.         0.         0.\n",
      " 0.         0.         0.         0.         0.         0.\n",
      " 0.         0.         0.         0.         0.         0.\n",
      " 0.         0.         0.         0.         0.         0.\n",
      " 0.         0.         0.         0.         0.         0.\n",
      " 0.         0.         0.         0.         0.         0.\n",
      " 0.         0.         0.         0.         0.         0.\n",
      " 0.         0.         0.         0.         0.         0.\n",
      " 0.         0.         0.         0.         0.         0.\n",
      " 0.         0.         0.         0.         0.         0.\n",
      " 0.         0.         0.         0.         0.         0.\n",
      " 0.         0.         0.         0.         0.         0.\n",
      " 0.         0.         0.         0.         0.         0.\n",
      " 0.         0.         0.         0.         0.         0.\n",
      " 0.         0.         0.         0.         0.         0.\n",
      " 0.         0.         0.         0.        ]\n"
     ]
    }
   ],
   "source": [
    "X_train = (X_train/256)\n",
    "print(X_train[34])"
   ]
  },
  {
   "cell_type": "markdown",
   "metadata": {
    "id": "hqm0HRyvkFX0"
   },
   "source": [
    "### Model"
   ]
  },
  {
   "cell_type": "code",
   "execution_count": 7,
   "metadata": {
    "id": "PCRnyXlXkHF6"
   },
   "outputs": [],
   "source": [
    "clf = MLPClassifier(solver = \"adam\" , activation = \"relu\" , hidden_layer_sizes=(50,50))"
   ]
  },
  {
   "cell_type": "markdown",
   "metadata": {
    "id": "TtRuV78Skt88"
   },
   "source": [
    "### Training model"
   ]
  },
  {
   "cell_type": "code",
   "execution_count": 8,
   "metadata": {
    "colab": {
     "base_uri": "https://localhost:8080/"
    },
    "id": "HOfZCOO8kw0k",
    "outputId": "e4610fb9-c555-4d9c-989e-2f11ff1517b3"
   },
   "outputs": [
    {
     "data": {
      "text/plain": [
       "MLPClassifier(hidden_layer_sizes=(50, 50))"
      ]
     },
     "execution_count": 8,
     "metadata": {},
     "output_type": "execute_result"
    }
   ],
   "source": [
    "clf.fit(X_train , y_train)"
   ]
  },
  {
   "cell_type": "markdown",
   "metadata": {
    "id": "1xprCc_0nQi4"
   },
   "source": [
    "### Prediction"
   ]
  },
  {
   "cell_type": "code",
   "execution_count": 9,
   "metadata": {
    "colab": {
     "base_uri": "https://localhost:8080/"
    },
    "id": "RajPw9mCnTTZ",
    "outputId": "3812cb80-e409-4592-aa27-0c8923a0ef64"
   },
   "outputs": [
    {
     "name": "stdout",
     "output_type": "stream",
     "text": [
      "Predictions:  [7 2 1 0 4 1 4 9 5 9]\n",
      "Real:  [7 2 1 0 4 1 4 9 5 9]\n"
     ]
    }
   ],
   "source": [
    "pred = clf.predict(X_test)\n",
    "print(\"Predictions: \",pred[: 10])\n",
    "print(\"Real: \",y_test[: 10])"
   ]
  },
  {
   "cell_type": "markdown",
   "metadata": {
    "id": "FjPhllhwnmrW"
   },
   "source": [
    "### Accuracy"
   ]
  },
  {
   "cell_type": "code",
   "execution_count": 10,
   "metadata": {
    "colab": {
     "base_uri": "https://localhost:8080/"
    },
    "id": "csfGDyxCnoE4",
    "outputId": "15e67a45-8e10-42cd-89f5-017fcb9b2b18"
   },
   "outputs": [
    {
     "name": "stdout",
     "output_type": "stream",
     "text": [
      "0.9729\n"
     ]
    }
   ],
   "source": [
    "acc = confusion_matrix(y_test , pred)\n",
    "def accuracy(cm):\n",
    "  dia = cm.trace()\n",
    "  elem = cm.sum()\n",
    "  return dia/elem\n",
    "\n",
    "print(accuracy(acc))\n",
    "# from sklearn.metrics import accuracy_score\n",
    "# accuracy_score(y_test, pred)\n",
    "# accuracy_score(y_test, pred2)"
   ]
  },
  {
   "cell_type": "markdown",
   "metadata": {
    "id": "ojjmS-j2xcF9"
   },
   "source": [
    "### Example checking"
   ]
  },
  {
   "cell_type": "code",
   "execution_count": 28,
   "metadata": {
    "colab": {
     "base_uri": "https://localhost:8080/"
    },
    "id": "Z1YmDeYMwxE_",
    "outputId": "f920bc90-16c6-4030-8b54-b57ebeab7c9d"
   },
   "outputs": [
    {
     "name": "stdout",
     "output_type": "stream",
     "text": [
      "[4]\n"
     ]
    }
   ],
   "source": [
    "img = Image.open('Digits/Six.png')\n",
    "data = list(img.getdata())\n",
    "data = np.array(data)/256\n",
    "prt = clf.predict([data])\n",
    "print(prt)"
   ]
  },
  {
   "cell_type": "code",
   "execution_count": null,
   "metadata": {},
   "outputs": [],
   "source": []
  },
  {
   "cell_type": "code",
   "execution_count": null,
   "metadata": {},
   "outputs": [],
   "source": []
  }
 ],
 "metadata": {
  "accelerator": "GPU",
  "colab": {
   "authorship_tag": "ABX9TyNa5MrMbfXIIgRuX/0W9Bwu",
   "collapsed_sections": [],
   "include_colab_link": true,
   "name": "HandwrittenDigitRecognizer.ipynb",
   "provenance": []
  },
  "kernelspec": {
   "display_name": "Python 3 (ipykernel)",
   "language": "python",
   "name": "python3"
  },
  "language_info": {
   "codemirror_mode": {
    "name": "ipython",
    "version": 3
   },
   "file_extension": ".py",
   "mimetype": "text/x-python",
   "name": "python",
   "nbconvert_exporter": "python",
   "pygments_lexer": "ipython3",
   "version": "3.9.7"
  }
 },
 "nbformat": 4,
 "nbformat_minor": 1
}
